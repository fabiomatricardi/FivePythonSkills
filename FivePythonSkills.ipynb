{
  "nbformat": 4,
  "nbformat_minor": 0,
  "metadata": {
    "colab": {
      "provenance": [],
      "authorship_tag": "ABX9TyMHjGMUCppD5iExlJrSocB5",
      "include_colab_link": true
    },
    "kernelspec": {
      "name": "python3",
      "display_name": "Python 3"
    },
    "language_info": {
      "name": "python"
    }
  },
  "cells": [
    {
      "cell_type": "markdown",
      "metadata": {
        "id": "view-in-github",
        "colab_type": "text"
      },
      "source": [
        "<a href=\"https://colab.research.google.com/github/fabiomatricardi/FivePythonSkills/blob/main/FivePythonSkills.ipynb\" target=\"_parent\"><img src=\"https://colab.research.google.com/assets/colab-badge.svg\" alt=\"Open In Colab\"/></a>"
      ]
    },
    {
      "cell_type": "markdown",
      "source": [
        "## 1> Python, PIP and Hugging Face"
      ],
      "metadata": {
        "id": "K63SZt6R5ML6"
      }
    },
    {
      "cell_type": "code",
      "execution_count": 2,
      "metadata": {
        "colab": {
          "base_uri": "https://localhost:8080/"
        },
        "id": "vBwZi9vp17o7",
        "outputId": "30ff0c49-9491-40c5-86de-623dcfddcba4"
      },
      "outputs": [
        {
          "output_type": "stream",
          "name": "stdout",
          "text": [
            "Collecting llama-cpp-python==0.2.85\n",
            "  Downloading llama_cpp_python-0.2.85.tar.gz (49.3 MB)\n",
            "\u001b[2K     \u001b[90m━━━━━━━━━━━━━━━━━━━━━━━━━━━━━━━━━━━━━━━━\u001b[0m \u001b[32m49.3/49.3 MB\u001b[0m \u001b[31m2.9 MB/s\u001b[0m eta \u001b[36m0:00:00\u001b[0m\n",
            "\u001b[?25h  Installing build dependencies ... \u001b[?25l\u001b[?25hdone\n",
            "  Getting requirements to build wheel ... \u001b[?25l\u001b[?25hdone\n",
            "  Installing backend dependencies ... \u001b[?25l\u001b[?25hdone\n",
            "  Preparing metadata (pyproject.toml) ... \u001b[?25l\u001b[?25hdone\n",
            "Requirement already satisfied: typing-extensions>=4.5.0 in /usr/local/lib/python3.10/dist-packages (from llama-cpp-python==0.2.85) (4.12.2)\n",
            "Requirement already satisfied: numpy>=1.20.0 in /usr/local/lib/python3.10/dist-packages (from llama-cpp-python==0.2.85) (1.26.4)\n",
            "Collecting diskcache>=5.6.1 (from llama-cpp-python==0.2.85)\n",
            "  Using cached diskcache-5.6.3-py3-none-any.whl.metadata (20 kB)\n",
            "Requirement already satisfied: jinja2>=2.11.3 in /usr/local/lib/python3.10/dist-packages (from llama-cpp-python==0.2.85) (3.1.4)\n",
            "Requirement already satisfied: MarkupSafe>=2.0 in /usr/local/lib/python3.10/dist-packages (from jinja2>=2.11.3->llama-cpp-python==0.2.85) (2.1.5)\n",
            "Using cached diskcache-5.6.3-py3-none-any.whl (45 kB)\n",
            "Building wheels for collected packages: llama-cpp-python\n",
            "  Building wheel for llama-cpp-python (pyproject.toml) ... \u001b[?25l\u001b[?25hdone\n",
            "  Created wheel for llama-cpp-python: filename=llama_cpp_python-0.2.85-cp310-cp310-linux_x86_64.whl size=2857590 sha256=d4c566f140b9d3b26ec7589ee32ce2791982e1bf9ea63b2c645067a0c38a4723\n",
            "  Stored in directory: /root/.cache/pip/wheels/3f/e8/4e/29a754f9175ef52b6481cd75e3af4de38bf6dfa9c2972f75d4\n",
            "Successfully built llama-cpp-python\n",
            "Installing collected packages: diskcache, llama-cpp-python\n",
            "Successfully installed diskcache-5.6.3 llama-cpp-python-0.2.85\n"
          ]
        }
      ],
      "source": [
        "!pip install llama-cpp-python==0.2.85"
      ]
    },
    {
      "cell_type": "code",
      "source": [
        "!wget https://huggingface.co/Qwen/Qwen2-0.5B-Instruct-GGUF/resolve/main/qwen2-0_5b-instruct-q8_0.gguf"
      ],
      "metadata": {
        "colab": {
          "base_uri": "https://localhost:8080/"
        },
        "id": "8qHcJJ5E2LsU",
        "outputId": "b3577e53-e001-44bf-fea2-1ecd6557c8c9"
      },
      "execution_count": 3,
      "outputs": [
        {
          "output_type": "stream",
          "name": "stdout",
          "text": [
            "--2024-08-13 22:31:54--  https://huggingface.co/Qwen/Qwen2-0.5B-Instruct-GGUF/resolve/main/qwen2-0_5b-instruct-q8_0.gguf\n",
            "Resolving huggingface.co (huggingface.co)... 13.35.7.81, 13.35.7.38, 13.35.7.57, ...\n",
            "Connecting to huggingface.co (huggingface.co)|13.35.7.81|:443... connected.\n",
            "HTTP request sent, awaiting response... 302 Found\n",
            "Location: https://cdn-lfs-us-1.huggingface.co/repos/de/a7/dea7cb7dd91181a6289326a9659bea3ef76442ab6822ba741994f21ad9825f70/834f4115ad5a836c9f17716b1577290fda96de3deb881ba45a4d5476fd202e96?response-content-disposition=inline%3B+filename*%3DUTF-8%27%27qwen2-0_5b-instruct-q8_0.gguf%3B+filename%3D%22qwen2-0_5b-instruct-q8_0.gguf%22%3B&Expires=1723847514&Policy=eyJTdGF0ZW1lbnQiOlt7IkNvbmRpdGlvbiI6eyJEYXRlTGVzc1RoYW4iOnsiQVdTOkVwb2NoVGltZSI6MTcyMzg0NzUxNH19LCJSZXNvdXJjZSI6Imh0dHBzOi8vY2RuLWxmcy11cy0xLmh1Z2dpbmdmYWNlLmNvL3JlcG9zL2RlL2E3L2RlYTdjYjdkZDkxMTgxYTYyODkzMjZhOTY1OWJlYTNlZjc2NDQyYWI2ODIyYmE3NDE5OTRmMjFhZDk4MjVmNzAvODM0ZjQxMTVhZDVhODM2YzlmMTc3MTZiMTU3NzI5MGZkYTk2ZGUzZGViODgxYmE0NWE0ZDU0NzZmZDIwMmU5Nj9yZXNwb25zZS1jb250ZW50LWRpc3Bvc2l0aW9uPSoifV19&Signature=CirkF%7EjcVeQ9TJZLUjM9v8oJeuj01XMNb5-zSgccEys9gx5QwKTmT8gROHE78ds6jC6DuLZVrhNkcoltRUD80MdL2O5qoE5ftXVo5DzXfyMoiuYZ0mK0kztwxk9j-iZeT62pX7-4yRhY4elYjk-VYNpCOlYALopyU0Fk0X166WGlyZo0X%7Ev5DI9FywxX55Dm%7EVhaj3miGYG8guPqfi7e9ptU%7EzqOeUsUsJ6UbOC2iz-uvJblnQc7FkpsnXQTXmYqKp-u5VT0Atu4dhSJCIK-VF7UxLkd%7EPUNUCrwmRXJc5EXuLxxfpQGzXi4xAkZLf8ytMwD%7E2PLTUPUKbwFwcSVTg__&Key-Pair-Id=K24J24Z295AEI9 [following]\n",
            "--2024-08-13 22:31:55--  https://cdn-lfs-us-1.huggingface.co/repos/de/a7/dea7cb7dd91181a6289326a9659bea3ef76442ab6822ba741994f21ad9825f70/834f4115ad5a836c9f17716b1577290fda96de3deb881ba45a4d5476fd202e96?response-content-disposition=inline%3B+filename*%3DUTF-8%27%27qwen2-0_5b-instruct-q8_0.gguf%3B+filename%3D%22qwen2-0_5b-instruct-q8_0.gguf%22%3B&Expires=1723847514&Policy=eyJTdGF0ZW1lbnQiOlt7IkNvbmRpdGlvbiI6eyJEYXRlTGVzc1RoYW4iOnsiQVdTOkVwb2NoVGltZSI6MTcyMzg0NzUxNH19LCJSZXNvdXJjZSI6Imh0dHBzOi8vY2RuLWxmcy11cy0xLmh1Z2dpbmdmYWNlLmNvL3JlcG9zL2RlL2E3L2RlYTdjYjdkZDkxMTgxYTYyODkzMjZhOTY1OWJlYTNlZjc2NDQyYWI2ODIyYmE3NDE5OTRmMjFhZDk4MjVmNzAvODM0ZjQxMTVhZDVhODM2YzlmMTc3MTZiMTU3NzI5MGZkYTk2ZGUzZGViODgxYmE0NWE0ZDU0NzZmZDIwMmU5Nj9yZXNwb25zZS1jb250ZW50LWRpc3Bvc2l0aW9uPSoifV19&Signature=CirkF%7EjcVeQ9TJZLUjM9v8oJeuj01XMNb5-zSgccEys9gx5QwKTmT8gROHE78ds6jC6DuLZVrhNkcoltRUD80MdL2O5qoE5ftXVo5DzXfyMoiuYZ0mK0kztwxk9j-iZeT62pX7-4yRhY4elYjk-VYNpCOlYALopyU0Fk0X166WGlyZo0X%7Ev5DI9FywxX55Dm%7EVhaj3miGYG8guPqfi7e9ptU%7EzqOeUsUsJ6UbOC2iz-uvJblnQc7FkpsnXQTXmYqKp-u5VT0Atu4dhSJCIK-VF7UxLkd%7EPUNUCrwmRXJc5EXuLxxfpQGzXi4xAkZLf8ytMwD%7E2PLTUPUKbwFwcSVTg__&Key-Pair-Id=K24J24Z295AEI9\n",
            "Resolving cdn-lfs-us-1.huggingface.co (cdn-lfs-us-1.huggingface.co)... 13.35.35.21, 13.35.35.125, 13.35.35.109, ...\n",
            "Connecting to cdn-lfs-us-1.huggingface.co (cdn-lfs-us-1.huggingface.co)|13.35.35.21|:443... connected.\n",
            "HTTP request sent, awaiting response... 200 OK\n",
            "Length: 531065536 (506M) [binary/octet-stream]\n",
            "Saving to: ‘qwen2-0_5b-instruct-q8_0.gguf’\n",
            "\n",
            "qwen2-0_5b-instruct 100%[===================>] 506.46M  29.3MB/s    in 18s     \n",
            "\n",
            "2024-08-13 22:32:13 (28.0 MB/s) - ‘qwen2-0_5b-instruct-q8_0.gguf’ saved [531065536/531065536]\n",
            "\n"
          ]
        }
      ]
    },
    {
      "cell_type": "markdown",
      "source": [
        "## 2> Import, Load, Run Repeat"
      ],
      "metadata": {
        "id": "PTXuhACY5QFo"
      }
    },
    {
      "cell_type": "code",
      "source": [
        "from llama_cpp import Llama"
      ],
      "metadata": {
        "id": "E_r-K_JA4mFS"
      },
      "execution_count": 5,
      "outputs": []
    },
    {
      "cell_type": "code",
      "source": [
        "llm = Llama(model_path='/content/qwen2-0_5b-instruct-q8_0.gguf', n_ctx=8196)"
      ],
      "metadata": {
        "colab": {
          "base_uri": "https://localhost:8080/"
        },
        "id": "Q0dLNWxI6ns9",
        "outputId": "1f8afd06-c859-491d-dee0-03bb39e23959"
      },
      "execution_count": 6,
      "outputs": [
        {
          "output_type": "stream",
          "name": "stderr",
          "text": [
            "llama_model_loader: loaded meta data with 26 key-value pairs and 290 tensors from /content/qwen2-0_5b-instruct-q8_0.gguf (version GGUF V3 (latest))\n",
            "llama_model_loader: Dumping metadata keys/values. Note: KV overrides do not apply in this output.\n",
            "llama_model_loader: - kv   0:                       general.architecture str              = qwen2\n",
            "llama_model_loader: - kv   1:                               general.name str              = qwen2-0_5b-instruct\n",
            "llama_model_loader: - kv   2:                          qwen2.block_count u32              = 24\n",
            "llama_model_loader: - kv   3:                       qwen2.context_length u32              = 32768\n",
            "llama_model_loader: - kv   4:                     qwen2.embedding_length u32              = 896\n",
            "llama_model_loader: - kv   5:                  qwen2.feed_forward_length u32              = 4864\n",
            "llama_model_loader: - kv   6:                 qwen2.attention.head_count u32              = 14\n",
            "llama_model_loader: - kv   7:              qwen2.attention.head_count_kv u32              = 2\n",
            "llama_model_loader: - kv   8:                       qwen2.rope.freq_base f32              = 1000000.000000\n",
            "llama_model_loader: - kv   9:     qwen2.attention.layer_norm_rms_epsilon f32              = 0.000001\n",
            "llama_model_loader: - kv  10:                          general.file_type u32              = 7\n",
            "llama_model_loader: - kv  11:                       tokenizer.ggml.model str              = gpt2\n",
            "llama_model_loader: - kv  12:                         tokenizer.ggml.pre str              = qwen2\n",
            "llama_model_loader: - kv  13:                      tokenizer.ggml.tokens arr[str,151936]  = [\"!\", \"\\\"\", \"#\", \"$\", \"%\", \"&\", \"'\", ...\n",
            "llama_model_loader: - kv  14:                  tokenizer.ggml.token_type arr[i32,151936]  = [1, 1, 1, 1, 1, 1, 1, 1, 1, 1, 1, 1, ...\n",
            "llama_model_loader: - kv  15:                      tokenizer.ggml.merges arr[str,151387]  = [\"Ġ Ġ\", \"ĠĠ ĠĠ\", \"i n\", \"Ġ t\",...\n",
            "llama_model_loader: - kv  16:                tokenizer.ggml.eos_token_id u32              = 151645\n",
            "llama_model_loader: - kv  17:            tokenizer.ggml.padding_token_id u32              = 151643\n",
            "llama_model_loader: - kv  18:                tokenizer.ggml.bos_token_id u32              = 151643\n",
            "llama_model_loader: - kv  19:                    tokenizer.chat_template str              = {% for message in messages %}{% if lo...\n",
            "llama_model_loader: - kv  20:               tokenizer.ggml.add_bos_token bool             = false\n",
            "llama_model_loader: - kv  21:               general.quantization_version u32              = 2\n",
            "llama_model_loader: - kv  22:                      quantize.imatrix.file str              = ../Qwen2/gguf/qwen2-0_5b-imatrix/imat...\n",
            "llama_model_loader: - kv  23:                   quantize.imatrix.dataset str              = ../sft_2406.txt\n",
            "llama_model_loader: - kv  24:             quantize.imatrix.entries_count i32              = 168\n",
            "llama_model_loader: - kv  25:              quantize.imatrix.chunks_count i32              = 1937\n",
            "llama_model_loader: - type  f32:  121 tensors\n",
            "llama_model_loader: - type q8_0:  169 tensors\n",
            "llm_load_vocab: special tokens cache size = 293\n",
            "llm_load_vocab: token to piece cache size = 0.9338 MB\n",
            "llm_load_print_meta: format           = GGUF V3 (latest)\n",
            "llm_load_print_meta: arch             = qwen2\n",
            "llm_load_print_meta: vocab type       = BPE\n",
            "llm_load_print_meta: n_vocab          = 151936\n",
            "llm_load_print_meta: n_merges         = 151387\n",
            "llm_load_print_meta: vocab_only       = 0\n",
            "llm_load_print_meta: n_ctx_train      = 32768\n",
            "llm_load_print_meta: n_embd           = 896\n",
            "llm_load_print_meta: n_layer          = 24\n",
            "llm_load_print_meta: n_head           = 14\n",
            "llm_load_print_meta: n_head_kv        = 2\n",
            "llm_load_print_meta: n_rot            = 64\n",
            "llm_load_print_meta: n_swa            = 0\n",
            "llm_load_print_meta: n_embd_head_k    = 64\n",
            "llm_load_print_meta: n_embd_head_v    = 64\n",
            "llm_load_print_meta: n_gqa            = 7\n",
            "llm_load_print_meta: n_embd_k_gqa     = 128\n",
            "llm_load_print_meta: n_embd_v_gqa     = 128\n",
            "llm_load_print_meta: f_norm_eps       = 0.0e+00\n",
            "llm_load_print_meta: f_norm_rms_eps   = 1.0e-06\n",
            "llm_load_print_meta: f_clamp_kqv      = 0.0e+00\n",
            "llm_load_print_meta: f_max_alibi_bias = 0.0e+00\n",
            "llm_load_print_meta: f_logit_scale    = 0.0e+00\n",
            "llm_load_print_meta: n_ff             = 4864\n",
            "llm_load_print_meta: n_expert         = 0\n",
            "llm_load_print_meta: n_expert_used    = 0\n",
            "llm_load_print_meta: causal attn      = 1\n",
            "llm_load_print_meta: pooling type     = 0\n",
            "llm_load_print_meta: rope type        = 2\n",
            "llm_load_print_meta: rope scaling     = linear\n",
            "llm_load_print_meta: freq_base_train  = 1000000.0\n",
            "llm_load_print_meta: freq_scale_train = 1\n",
            "llm_load_print_meta: n_ctx_orig_yarn  = 32768\n",
            "llm_load_print_meta: rope_finetuned   = unknown\n",
            "llm_load_print_meta: ssm_d_conv       = 0\n",
            "llm_load_print_meta: ssm_d_inner      = 0\n",
            "llm_load_print_meta: ssm_d_state      = 0\n",
            "llm_load_print_meta: ssm_dt_rank      = 0\n",
            "llm_load_print_meta: model type       = 1B\n",
            "llm_load_print_meta: model ftype      = Q8_0\n",
            "llm_load_print_meta: model params     = 494.03 M\n",
            "llm_load_print_meta: model size       = 500.79 MiB (8.50 BPW) \n",
            "llm_load_print_meta: general.name     = qwen2-0_5b-instruct\n",
            "llm_load_print_meta: BOS token        = 151643 '<|endoftext|>'\n",
            "llm_load_print_meta: EOS token        = 151645 '<|im_end|>'\n",
            "llm_load_print_meta: PAD token        = 151643 '<|endoftext|>'\n",
            "llm_load_print_meta: LF token         = 148848 'ÄĬ'\n",
            "llm_load_print_meta: EOT token        = 151645 '<|im_end|>'\n",
            "llm_load_print_meta: max token length = 256\n",
            "llm_load_tensors: ggml ctx size =    0.13 MiB\n",
            "llm_load_tensors:        CPU buffer size =   500.79 MiB\n",
            "...........................................................\n",
            "llama_new_context_with_model: n_ctx      = 8224\n",
            "llama_new_context_with_model: n_batch    = 512\n",
            "llama_new_context_with_model: n_ubatch   = 512\n",
            "llama_new_context_with_model: flash_attn = 0\n",
            "llama_new_context_with_model: freq_base  = 1000000.0\n",
            "llama_new_context_with_model: freq_scale = 1\n",
            "llama_kv_cache_init:        CPU KV buffer size =    96.38 MiB\n",
            "llama_new_context_with_model: KV self size  =   96.38 MiB, K (f16):   48.19 MiB, V (f16):   48.19 MiB\n",
            "llama_new_context_with_model:        CPU  output buffer size =     0.58 MiB\n",
            "llama_new_context_with_model:        CPU compute buffer size =   300.25 MiB\n",
            "llama_new_context_with_model: graph nodes  = 846\n",
            "llama_new_context_with_model: graph splits = 1\n",
            "AVX = 1 | AVX_VNNI = 0 | AVX2 = 1 | AVX512 = 0 | AVX512_VBMI = 0 | AVX512_VNNI = 0 | AVX512_BF16 = 0 | FMA = 1 | NEON = 0 | SVE = 0 | ARM_FMA = 0 | F16C = 1 | FP16_VA = 0 | WASM_SIMD = 0 | BLAS = 0 | SSE3 = 1 | SSSE3 = 1 | VSX = 0 | MATMUL_INT8 = 0 | LLAMAFILE = 1 | \n",
            "Model metadata: {'quantize.imatrix.entries_count': '168', 'quantize.imatrix.dataset': '../sft_2406.txt', 'quantize.imatrix.chunks_count': '1937', 'quantize.imatrix.file': '../Qwen2/gguf/qwen2-0_5b-imatrix/imatrix.dat', 'tokenizer.ggml.add_bos_token': 'false', 'tokenizer.ggml.bos_token_id': '151643', 'general.architecture': 'qwen2', 'qwen2.block_count': '24', 'qwen2.context_length': '32768', 'tokenizer.chat_template': \"{% for message in messages %}{% if loop.first and messages[0]['role'] != 'system' %}{{ '<|im_start|>system\\nYou are a helpful assistant.<|im_end|>\\n' }}{% endif %}{{'<|im_start|>' + message['role'] + '\\n' + message['content'] + '<|im_end|>' + '\\n'}}{% endfor %}{% if add_generation_prompt %}{{ '<|im_start|>assistant\\n' }}{% endif %}\", 'qwen2.attention.head_count_kv': '2', 'tokenizer.ggml.padding_token_id': '151643', 'qwen2.embedding_length': '896', 'qwen2.attention.layer_norm_rms_epsilon': '0.000001', 'qwen2.attention.head_count': '14', 'tokenizer.ggml.eos_token_id': '151645', 'qwen2.rope.freq_base': '1000000.000000', 'general.file_type': '7', 'general.quantization_version': '2', 'qwen2.feed_forward_length': '4864', 'tokenizer.ggml.model': 'gpt2', 'general.name': 'qwen2-0_5b-instruct', 'tokenizer.ggml.pre': 'qwen2'}\n",
            "Available chat formats from metadata: chat_template.default\n",
            "Using gguf chat template: {% for message in messages %}{% if loop.first and messages[0]['role'] != 'system' %}{{ '<|im_start|>system\n",
            "You are a helpful assistant.<|im_end|>\n",
            "' }}{% endif %}{{'<|im_start|>' + message['role'] + '\n",
            "' + message['content'] + '<|im_end|>' + '\n",
            "'}}{% endfor %}{% if add_generation_prompt %}{{ '<|im_start|>assistant\n",
            "' }}{% endif %}\n",
            "Using chat eos_token: <|im_end|>\n",
            "Using chat bos_token: <|endoftext|>\n"
          ]
        }
      ]
    },
    {
      "cell_type": "code",
      "source": [
        "llm('what is Science?', temperature=0.25, max_tokens=350, repeat_penalty=1.18, stop=['<|im_end|>'])"
      ],
      "metadata": {
        "colab": {
          "base_uri": "https://localhost:8080/"
        },
        "id": "WwBOADZ06nc0",
        "outputId": "0abf25e9-82d5-4a98-b08e-7b782cff538e"
      },
      "execution_count": 8,
      "outputs": [
        {
          "output_type": "stream",
          "name": "stderr",
          "text": [
            "Llama.generate: prefix-match hit\n",
            "\n",
            "llama_print_timings:        load time =     659.51 ms\n",
            "llama_print_timings:      sample time =    1047.54 ms /   350 runs   (    2.99 ms per token,   334.12 tokens per second)\n",
            "llama_print_timings: prompt eval time =       0.00 ms /     0 tokens (    -nan ms per token,     -nan tokens per second)\n",
            "llama_print_timings:        eval time =   32762.39 ms /   350 runs   (   93.61 ms per token,    10.68 tokens per second)\n",
            "llama_print_timings:       total time =   34610.76 ms /   350 tokens\n"
          ]
        },
        {
          "output_type": "execute_result",
          "data": {
            "text/plain": [
              "{'id': 'cmpl-5f4b09fb-47bb-4b52-a113-dc64412a22c2',\n",
              " 'object': 'text_completion',\n",
              " 'created': 1723589728,\n",
              " 'model': '/content/qwen2-0_5b-instruct-q8_0.gguf',\n",
              " 'choices': [{'text': ' What does it mean to be a scientist?\\nScience, in the broadest sense, refers to all knowledge that can be acquired through observation and experimentation. It encompasses both natural phenomena such as plants, animals, rocks, and minerals, as well as human-made objects like machines or buildings.\\nScientists are individuals who use their skills and expertise to investigate and understand complex systems of matter, energy, and information in order to make predictions about the future. They work with a wide range of tools and methods, including observation, experimentation, data analysis, theory development, and communication.\\nOne way that scientists can be considered \"scientists\" is by using their knowledge to advance scientific understanding and improve our lives. For example, they may develop new technologies or medical treatments based on the results of their research; they might help us understand how different types of plants respond to environmental stressors; or they could use their expertise in fields such as climate change science to inform policy decisions.\\nAnother way that scientists can be considered \"scientists\" is by using their knowledge to improve our understanding and appreciation for scientific inquiry. They may work with other researchers, educators, and policymakers to promote a culture of curiosity and critical thinking about the nature of reality; they might use their expertise in fields such as biology or psychology to help us better understand how people think and feel.\\nOverall, scientists are individuals who have developed an understanding of the natural world through observation and experimentation. They work with tools and methods that allow them to investigate complex systems of matter, energy, and information, and they make predictions about the future based on their knowledge. By using their expertise in fields such as biology or psychology, scientists can help us better understand how we interact with our environment and improve our lives.\\nWhat is a',\n",
              "   'index': 0,\n",
              "   'logprobs': None,\n",
              "   'finish_reason': 'length'}],\n",
              " 'usage': {'prompt_tokens': 4, 'completion_tokens': 350, 'total_tokens': 354}}"
            ]
          },
          "metadata": {},
          "execution_count": 8
        }
      ]
    },
    {
      "cell_type": "code",
      "source": [
        "prompt = \"\"\"<|im_start|>user\n",
        "What is Science?<|im_end|>\n",
        "<|im_start|>assistant\n",
        "\"\"\""
      ],
      "metadata": {
        "id": "IU_uBKXV5UZI"
      },
      "execution_count": 10,
      "outputs": []
    },
    {
      "cell_type": "code",
      "source": [
        "llm(prompt, temperature=0.25, max_tokens=350, repeat_penalty=1.18, stop=['<|im_end|>'])"
      ],
      "metadata": {
        "colab": {
          "base_uri": "https://localhost:8080/"
        },
        "id": "ugq6_tc95UV9",
        "outputId": "a8f8cf20-954b-4522-d15f-7c4ea24dfbc6"
      },
      "execution_count": 11,
      "outputs": [
        {
          "output_type": "stream",
          "name": "stderr",
          "text": [
            "\n",
            "llama_print_timings:        load time =     659.51 ms\n",
            "llama_print_timings:      sample time =     282.20 ms /    98 runs   (    2.88 ms per token,   347.28 tokens per second)\n",
            "llama_print_timings: prompt eval time =     293.50 ms /    12 tokens (   24.46 ms per token,    40.89 tokens per second)\n",
            "llama_print_timings:        eval time =    8909.84 ms /    97 runs   (   91.85 ms per token,    10.89 tokens per second)\n",
            "llama_print_timings:       total time =    9662.28 ms /   109 tokens\n"
          ]
        },
        {
          "output_type": "execute_result",
          "data": {
            "text/plain": [
              "{'id': 'cmpl-7e0c6a43-3334-4eca-9402-db22d47c2c40',\n",
              " 'object': 'text_completion',\n",
              " 'created': 1723591678,\n",
              " 'model': '/content/qwen2-0_5b-instruct-q8_0.gguf',\n",
              " 'choices': [{'text': 'Science refers to the study of natural phenomena, including their causes and consequences. It involves a range of disciplines such as physics, chemistry, biology, geology, astronomy, mathematics, psychology, sociology, economics, linguistics, philosophy, etc., that aim at understanding how things work in the world around us.\\n\\nIn short, Science is about discovering new knowledge through observation, experimentation, reasoning and critical thinking. It aims to understand the natural world by studying its laws of cause and effect.',\n",
              "   'index': 0,\n",
              "   'logprobs': None,\n",
              "   'finish_reason': 'stop'}],\n",
              " 'usage': {'prompt_tokens': 12, 'completion_tokens': 97, 'total_tokens': 109}}"
            ]
          },
          "metadata": {},
          "execution_count": 11
        }
      ]
    },
    {
      "cell_type": "markdown",
      "source": [
        "## 3> Data types secrets unveiled"
      ],
      "metadata": {
        "id": "GGv3-nog5UuC"
      }
    },
    {
      "cell_type": "code",
      "source": [
        "output = llm(prompt, temperature=0.25, max_tokens=350, repeat_penalty=1.18, stop=['<|im_end|>'])"
      ],
      "metadata": {
        "colab": {
          "base_uri": "https://localhost:8080/"
        },
        "id": "ik-ep_tZ5XGS",
        "outputId": "df635af8-752a-4077-ff04-fe0c58595afe"
      },
      "execution_count": 12,
      "outputs": [
        {
          "output_type": "stream",
          "name": "stderr",
          "text": [
            "Llama.generate: prefix-match hit\n",
            "\n",
            "llama_print_timings:        load time =     659.51 ms\n",
            "llama_print_timings:      sample time =     220.76 ms /    77 runs   (    2.87 ms per token,   348.80 tokens per second)\n",
            "llama_print_timings: prompt eval time =       0.00 ms /     0 tokens (    -nan ms per token,     -nan tokens per second)\n",
            "llama_print_timings:        eval time =    7286.45 ms /    77 runs   (   94.63 ms per token,    10.57 tokens per second)\n",
            "llama_print_timings:       total time =    7647.65 ms /    77 tokens\n"
          ]
        }
      ]
    },
    {
      "cell_type": "code",
      "source": [
        "print(output)"
      ],
      "metadata": {
        "colab": {
          "base_uri": "https://localhost:8080/"
        },
        "id": "ujYqTlL25Yv3",
        "outputId": "4fb0d0fa-fd25-4b13-f4d3-9d3d5356b980"
      },
      "execution_count": 13,
      "outputs": [
        {
          "output_type": "stream",
          "name": "stdout",
          "text": [
            "{'id': 'cmpl-31bea99e-3ef0-4cbe-897a-5e6bc28ee21b', 'object': 'text_completion', 'created': 1723592570, 'model': '/content/qwen2-0_5b-instruct-q8_0.gguf', 'choices': [{'text': 'Science refers to the study of natural phenomena and their causes, processes, and relationships. It includes all branches of knowledge that deal with these topics: physics, chemistry, biology, geology, astronomy, meteorology, ecology, oceanography, etc.\\n\\nIn short, science is a branch of human inquiry into the nature of reality through observation, experimentation, theory development, and interpretation.', 'index': 0, 'logprobs': None, 'finish_reason': 'stop'}], 'usage': {'prompt_tokens': 12, 'completion_tokens': 76, 'total_tokens': 88}}\n"
          ]
        }
      ]
    },
    {
      "cell_type": "code",
      "source": [
        "from rich.console import Console\n",
        "console = Console(width=110)"
      ],
      "metadata": {
        "id": "QKClON9O5YtZ"
      },
      "execution_count": 14,
      "outputs": []
    },
    {
      "cell_type": "code",
      "source": [
        "# import\n",
        "from rich.console import Console\n",
        "# call\n",
        "console = Console(width=110)\n",
        "# run\n",
        "console.print(output)"
      ],
      "metadata": {
        "colab": {
          "base_uri": "https://localhost:8080/",
          "height": 323
        },
        "id": "objJN3YkI0ZM",
        "outputId": "630fd9ab-a01a-4d5f-90b8-7bed5fad9bbd"
      },
      "execution_count": 15,
      "outputs": [
        {
          "output_type": "display_data",
          "data": {
            "text/plain": [
              "\u001b[1m{\u001b[0m\n",
              "    \u001b[32m'id'\u001b[0m: \u001b[32m'cmpl-31bea99e-3ef0-4cbe-897a-5e6bc28ee21b'\u001b[0m,\n",
              "    \u001b[32m'object'\u001b[0m: \u001b[32m'text_completion'\u001b[0m,\n",
              "    \u001b[32m'created'\u001b[0m: \u001b[1;36m1723592570\u001b[0m,\n",
              "    \u001b[32m'model'\u001b[0m: \u001b[32m'/content/qwen2-0_5b-instruct-q8_0.gguf'\u001b[0m,\n",
              "    \u001b[32m'choices'\u001b[0m: \u001b[1m[\u001b[0m\n",
              "        \u001b[1m{\u001b[0m\n",
              "            \u001b[32m'text'\u001b[0m: \u001b[32m'Science refers to the study of natural phenomena and their causes, processes, and \u001b[0m\n",
              "\u001b[32mrelationships. It includes all branches of knowledge that deal with these topics: physics, chemistry, biology,\u001b[0m\n",
              "\u001b[32mgeology, astronomy, meteorology, ecology, oceanography, etc.\\n\\nIn short, science is a branch of human inquiry\u001b[0m\n",
              "\u001b[32minto the nature of reality through observation, experimentation, theory development, and interpretation.'\u001b[0m,\n",
              "            \u001b[32m'index'\u001b[0m: \u001b[1;36m0\u001b[0m,\n",
              "            \u001b[32m'logprobs'\u001b[0m: \u001b[3;35mNone\u001b[0m,\n",
              "            \u001b[32m'finish_reason'\u001b[0m: \u001b[32m'stop'\u001b[0m\n",
              "        \u001b[1m}\u001b[0m\n",
              "    \u001b[1m]\u001b[0m,\n",
              "    \u001b[32m'usage'\u001b[0m: \u001b[1m{\u001b[0m\u001b[32m'prompt_tokens'\u001b[0m: \u001b[1;36m12\u001b[0m, \u001b[32m'completion_tokens'\u001b[0m: \u001b[1;36m76\u001b[0m, \u001b[32m'total_tokens'\u001b[0m: \u001b[1;36m88\u001b[0m\u001b[1m}\u001b[0m\n",
              "\u001b[1m}\u001b[0m\n"
            ],
            "text/html": [
              "<pre style=\"white-space:pre;overflow-x:auto;line-height:normal;font-family:Menlo,'DejaVu Sans Mono',consolas,'Courier New',monospace\"><span style=\"font-weight: bold\">{</span>\n",
              "    <span style=\"color: #008000; text-decoration-color: #008000\">'id'</span>: <span style=\"color: #008000; text-decoration-color: #008000\">'cmpl-31bea99e-3ef0-4cbe-897a-5e6bc28ee21b'</span>,\n",
              "    <span style=\"color: #008000; text-decoration-color: #008000\">'object'</span>: <span style=\"color: #008000; text-decoration-color: #008000\">'text_completion'</span>,\n",
              "    <span style=\"color: #008000; text-decoration-color: #008000\">'created'</span>: <span style=\"color: #008080; text-decoration-color: #008080; font-weight: bold\">1723592570</span>,\n",
              "    <span style=\"color: #008000; text-decoration-color: #008000\">'model'</span>: <span style=\"color: #008000; text-decoration-color: #008000\">'/content/qwen2-0_5b-instruct-q8_0.gguf'</span>,\n",
              "    <span style=\"color: #008000; text-decoration-color: #008000\">'choices'</span>: <span style=\"font-weight: bold\">[</span>\n",
              "        <span style=\"font-weight: bold\">{</span>\n",
              "            <span style=\"color: #008000; text-decoration-color: #008000\">'text'</span>: <span style=\"color: #008000; text-decoration-color: #008000\">'Science refers to the study of natural phenomena and their causes, processes, and </span>\n",
              "<span style=\"color: #008000; text-decoration-color: #008000\">relationships. It includes all branches of knowledge that deal with these topics: physics, chemistry, biology,</span>\n",
              "<span style=\"color: #008000; text-decoration-color: #008000\">geology, astronomy, meteorology, ecology, oceanography, etc.\\n\\nIn short, science is a branch of human inquiry</span>\n",
              "<span style=\"color: #008000; text-decoration-color: #008000\">into the nature of reality through observation, experimentation, theory development, and interpretation.'</span>,\n",
              "            <span style=\"color: #008000; text-decoration-color: #008000\">'index'</span>: <span style=\"color: #008080; text-decoration-color: #008080; font-weight: bold\">0</span>,\n",
              "            <span style=\"color: #008000; text-decoration-color: #008000\">'logprobs'</span>: <span style=\"color: #800080; text-decoration-color: #800080; font-style: italic\">None</span>,\n",
              "            <span style=\"color: #008000; text-decoration-color: #008000\">'finish_reason'</span>: <span style=\"color: #008000; text-decoration-color: #008000\">'stop'</span>\n",
              "        <span style=\"font-weight: bold\">}</span>\n",
              "    <span style=\"font-weight: bold\">]</span>,\n",
              "    <span style=\"color: #008000; text-decoration-color: #008000\">'usage'</span>: <span style=\"font-weight: bold\">{</span><span style=\"color: #008000; text-decoration-color: #008000\">'prompt_tokens'</span>: <span style=\"color: #008080; text-decoration-color: #008080; font-weight: bold\">12</span>, <span style=\"color: #008000; text-decoration-color: #008000\">'completion_tokens'</span>: <span style=\"color: #008080; text-decoration-color: #008080; font-weight: bold\">76</span>, <span style=\"color: #008000; text-decoration-color: #008000\">'total_tokens'</span>: <span style=\"color: #008080; text-decoration-color: #008080; font-weight: bold\">88</span><span style=\"font-weight: bold\">}</span>\n",
              "<span style=\"font-weight: bold\">}</span>\n",
              "</pre>\n"
            ]
          },
          "metadata": {}
        }
      ]
    },
    {
      "cell_type": "code",
      "source": [
        "type(output)"
      ],
      "metadata": {
        "colab": {
          "base_uri": "https://localhost:8080/"
        },
        "id": "6Cqo_M01JfKG",
        "outputId": "a647e6bc-b359-48f5-945b-62b7d523b248"
      },
      "execution_count": 18,
      "outputs": [
        {
          "output_type": "execute_result",
          "data": {
            "text/plain": [
              "dict"
            ]
          },
          "metadata": {},
          "execution_count": 18
        }
      ]
    },
    {
      "cell_type": "code",
      "source": [
        "console.print(output['model'])"
      ],
      "metadata": {
        "colab": {
          "base_uri": "https://localhost:8080/",
          "height": 34
        },
        "id": "tLaYMQ11JfHp",
        "outputId": "d9bd8ce5-f7f4-4704-f083-3d8ba7a7b935"
      },
      "execution_count": 19,
      "outputs": [
        {
          "output_type": "display_data",
          "data": {
            "text/plain": [
              "\u001b[35m/content/\u001b[0m\u001b[95mqwen2-0_5b-instruct-q8_0.gguf\u001b[0m\n"
            ],
            "text/html": [
              "<pre style=\"white-space:pre;overflow-x:auto;line-height:normal;font-family:Menlo,'DejaVu Sans Mono',consolas,'Courier New',monospace\"><span style=\"color: #800080; text-decoration-color: #800080\">/content/</span><span style=\"color: #ff00ff; text-decoration-color: #ff00ff\">qwen2-0_5b-instruct-q8_0.gguf</span>\n",
              "</pre>\n"
            ]
          },
          "metadata": {}
        }
      ]
    },
    {
      "cell_type": "code",
      "source": [
        "console.print(output['choices'])"
      ],
      "metadata": {
        "colab": {
          "base_uri": "https://localhost:8080/",
          "height": 204
        },
        "id": "9kh3Io_1JfFP",
        "outputId": "a3d1fb01-1f8d-4117-8989-fb611bb5dea4"
      },
      "execution_count": 20,
      "outputs": [
        {
          "output_type": "display_data",
          "data": {
            "text/plain": [
              "\u001b[1m[\u001b[0m\n",
              "    \u001b[1m{\u001b[0m\n",
              "        \u001b[32m'text'\u001b[0m: \u001b[32m'Science refers to the study of natural phenomena and their causes, processes, and \u001b[0m\n",
              "\u001b[32mrelationships. It includes all branches of knowledge that deal with these topics: physics, chemistry, biology,\u001b[0m\n",
              "\u001b[32mgeology, astronomy, meteorology, ecology, oceanography, etc.\\n\\nIn short, science is a branch of human inquiry\u001b[0m\n",
              "\u001b[32minto the nature of reality through observation, experimentation, theory development, and interpretation.'\u001b[0m,\n",
              "        \u001b[32m'index'\u001b[0m: \u001b[1;36m0\u001b[0m,\n",
              "        \u001b[32m'logprobs'\u001b[0m: \u001b[3;35mNone\u001b[0m,\n",
              "        \u001b[32m'finish_reason'\u001b[0m: \u001b[32m'stop'\u001b[0m\n",
              "    \u001b[1m}\u001b[0m\n",
              "\u001b[1m]\u001b[0m\n"
            ],
            "text/html": [
              "<pre style=\"white-space:pre;overflow-x:auto;line-height:normal;font-family:Menlo,'DejaVu Sans Mono',consolas,'Courier New',monospace\"><span style=\"font-weight: bold\">[</span>\n",
              "    <span style=\"font-weight: bold\">{</span>\n",
              "        <span style=\"color: #008000; text-decoration-color: #008000\">'text'</span>: <span style=\"color: #008000; text-decoration-color: #008000\">'Science refers to the study of natural phenomena and their causes, processes, and </span>\n",
              "<span style=\"color: #008000; text-decoration-color: #008000\">relationships. It includes all branches of knowledge that deal with these topics: physics, chemistry, biology,</span>\n",
              "<span style=\"color: #008000; text-decoration-color: #008000\">geology, astronomy, meteorology, ecology, oceanography, etc.\\n\\nIn short, science is a branch of human inquiry</span>\n",
              "<span style=\"color: #008000; text-decoration-color: #008000\">into the nature of reality through observation, experimentation, theory development, and interpretation.'</span>,\n",
              "        <span style=\"color: #008000; text-decoration-color: #008000\">'index'</span>: <span style=\"color: #008080; text-decoration-color: #008080; font-weight: bold\">0</span>,\n",
              "        <span style=\"color: #008000; text-decoration-color: #008000\">'logprobs'</span>: <span style=\"color: #800080; text-decoration-color: #800080; font-style: italic\">None</span>,\n",
              "        <span style=\"color: #008000; text-decoration-color: #008000\">'finish_reason'</span>: <span style=\"color: #008000; text-decoration-color: #008000\">'stop'</span>\n",
              "    <span style=\"font-weight: bold\">}</span>\n",
              "<span style=\"font-weight: bold\">]</span>\n",
              "</pre>\n"
            ]
          },
          "metadata": {}
        }
      ]
    },
    {
      "cell_type": "code",
      "source": [
        "console.print(output['choices'][0])"
      ],
      "metadata": {
        "colab": {
          "base_uri": "https://localhost:8080/",
          "height": 170
        },
        "id": "oJT8SeYoVFvc",
        "outputId": "998d0491-4b9a-41d6-c2ed-e16bc91d6d8a"
      },
      "execution_count": 21,
      "outputs": [
        {
          "output_type": "display_data",
          "data": {
            "text/plain": [
              "\u001b[1m{\u001b[0m\n",
              "    \u001b[32m'text'\u001b[0m: \u001b[32m'Science refers to the study of natural phenomena and their causes, processes, and relationships. \u001b[0m\n",
              "\u001b[32mIt includes all branches of knowledge that deal with these topics: physics, chemistry, biology, geology, \u001b[0m\n",
              "\u001b[32mastronomy, meteorology, ecology, oceanography, etc.\\n\\nIn short, science is a branch of human inquiry into the\u001b[0m\n",
              "\u001b[32mnature of reality through observation, experimentation, theory development, and interpretation.'\u001b[0m,\n",
              "    \u001b[32m'index'\u001b[0m: \u001b[1;36m0\u001b[0m,\n",
              "    \u001b[32m'logprobs'\u001b[0m: \u001b[3;35mNone\u001b[0m,\n",
              "    \u001b[32m'finish_reason'\u001b[0m: \u001b[32m'stop'\u001b[0m\n",
              "\u001b[1m}\u001b[0m\n"
            ],
            "text/html": [
              "<pre style=\"white-space:pre;overflow-x:auto;line-height:normal;font-family:Menlo,'DejaVu Sans Mono',consolas,'Courier New',monospace\"><span style=\"font-weight: bold\">{</span>\n",
              "    <span style=\"color: #008000; text-decoration-color: #008000\">'text'</span>: <span style=\"color: #008000; text-decoration-color: #008000\">'Science refers to the study of natural phenomena and their causes, processes, and relationships. </span>\n",
              "<span style=\"color: #008000; text-decoration-color: #008000\">It includes all branches of knowledge that deal with these topics: physics, chemistry, biology, geology, </span>\n",
              "<span style=\"color: #008000; text-decoration-color: #008000\">astronomy, meteorology, ecology, oceanography, etc.\\n\\nIn short, science is a branch of human inquiry into the</span>\n",
              "<span style=\"color: #008000; text-decoration-color: #008000\">nature of reality through observation, experimentation, theory development, and interpretation.'</span>,\n",
              "    <span style=\"color: #008000; text-decoration-color: #008000\">'index'</span>: <span style=\"color: #008080; text-decoration-color: #008080; font-weight: bold\">0</span>,\n",
              "    <span style=\"color: #008000; text-decoration-color: #008000\">'logprobs'</span>: <span style=\"color: #800080; text-decoration-color: #800080; font-style: italic\">None</span>,\n",
              "    <span style=\"color: #008000; text-decoration-color: #008000\">'finish_reason'</span>: <span style=\"color: #008000; text-decoration-color: #008000\">'stop'</span>\n",
              "<span style=\"font-weight: bold\">}</span>\n",
              "</pre>\n"
            ]
          },
          "metadata": {}
        }
      ]
    },
    {
      "cell_type": "code",
      "source": [
        "type(output['choices'][0])"
      ],
      "metadata": {
        "colab": {
          "base_uri": "https://localhost:8080/"
        },
        "id": "tKXmp563VFkx",
        "outputId": "230cf461-87b1-43e2-b40d-75531953b123"
      },
      "execution_count": 22,
      "outputs": [
        {
          "output_type": "execute_result",
          "data": {
            "text/plain": [
              "dict"
            ]
          },
          "metadata": {},
          "execution_count": 22
        }
      ]
    },
    {
      "cell_type": "code",
      "source": [
        "console.print(output['choices'][0]['text'])"
      ],
      "metadata": {
        "colab": {
          "base_uri": "https://localhost:8080/",
          "height": 119
        },
        "id": "ZhPp93YKaGZt",
        "outputId": "54325fa7-03e1-4e19-f6ed-2bf3daeb1477"
      },
      "execution_count": 23,
      "outputs": [
        {
          "output_type": "display_data",
          "data": {
            "text/plain": [
              "Science refers to the study of natural phenomena and their causes, processes, and relationships. It includes \n",
              "all branches of knowledge that deal with these topics: physics, chemistry, biology, geology, astronomy, \n",
              "meteorology, ecology, oceanography, etc.\n",
              "\n",
              "In short, science is a branch of human inquiry into the nature of reality through observation, \n",
              "experimentation, theory development, and interpretation.\n"
            ],
            "text/html": [
              "<pre style=\"white-space:pre;overflow-x:auto;line-height:normal;font-family:Menlo,'DejaVu Sans Mono',consolas,'Courier New',monospace\">Science refers to the study of natural phenomena and their causes, processes, and relationships. It includes \n",
              "all branches of knowledge that deal with these topics: physics, chemistry, biology, geology, astronomy, \n",
              "meteorology, ecology, oceanography, etc.\n",
              "\n",
              "In short, science is a branch of human inquiry into the nature of reality through observation, \n",
              "experimentation, theory development, and interpretation.\n",
              "</pre>\n"
            ]
          },
          "metadata": {}
        }
      ]
    },
    {
      "cell_type": "code",
      "source": [],
      "metadata": {
        "id": "cQrjusEgaGXG"
      },
      "execution_count": null,
      "outputs": []
    },
    {
      "cell_type": "code",
      "source": [
        "# put verbose=False for smooth chatbot experience\n",
        "llm = Llama(model_path='/content/qwen2-0_5b-instruct-q8_0.gguf', n_ctx=8196, verbose=False)"
      ],
      "metadata": {
        "id": "DezqquHKaGUr"
      },
      "execution_count": 25,
      "outputs": []
    },
    {
      "cell_type": "markdown",
      "source": [
        "## 4> Loops for human beings"
      ],
      "metadata": {
        "id": "CJ73BOhV5ZBt"
      }
    },
    {
      "cell_type": "code",
      "source": [
        "while True:\n",
        "  #ask for input\n",
        "  user = input('User> ')\n",
        "  # check if the input is equal to 'quit!'\n",
        "  # if yes exit the loop, if no keep going\n",
        "  if user == 'quit!':\n",
        "    console.print('Bye Bye!')\n",
        "    # break the loop\n",
        "    break\n",
        "  else:\n",
        "    # build the prompt with correct formatting\n",
        "    prompt = f\"\"\"<|im_start|>user\n",
        "{user}<|im_end|>\n",
        "<|im_start|>assistant\n",
        "\"\"\"\n",
        "    # give the prompt to the AI\n",
        "    output = llm(prompt, temperature=0.25,\n",
        "                max_tokens=350, repeat_penalty=1.18,\n",
        "                stop=['<|im_end|>'])\n",
        "    # print the result\n",
        "    console.print(f\"AI> {output['choices'][0]['text']}\")"
      ],
      "metadata": {
        "colab": {
          "base_uri": "https://localhost:8080/",
          "height": 511
        },
        "id": "YxAApcGC5aTN",
        "outputId": "99708f59-da4b-40a0-bca6-bb79e9eedc76"
      },
      "execution_count": 29,
      "outputs": [
        {
          "name": "stdout",
          "output_type": "stream",
          "text": [
            "User> what is science?\n"
          ]
        },
        {
          "output_type": "display_data",
          "data": {
            "text/plain": [
              "AI> Science is the study of the natural world and its laws, phenomena, processes, and ideas. It involves the \n",
              "investigation of facts through observation, experimentation, reasoning, and interpretation to understand how \n",
              "things work in the real world.\n",
              "\n",
              "In simpler terms, scientific inquiry seeks to discover what exists or can exist by studying it scientifically.\n",
              "This includes fields such as physics, chemistry, biology, geology, astronomy, mathematics, engineering, \n",
              "medicine, psychology, sociology, linguistics, philosophy of science, and many others.\n",
              "\n",
              "Science is a fundamental part of our daily lives because we use its findings every day in everything from \n",
              "making decisions about where to buy groceries or how to build a house to understanding the world around us. It\n",
              "helps us make sense of complex phenomena that are hard for humans to explain on their own, such as climate \n",
              "change and artificial intelligence.\n",
              "\n",
              "Overall, science is an essential part of our collective knowledge and ability to understand the natural world.\n"
            ],
            "text/html": [
              "<pre style=\"white-space:pre;overflow-x:auto;line-height:normal;font-family:Menlo,'DejaVu Sans Mono',consolas,'Courier New',monospace\">AI&gt; Science is the study of the natural world and its laws, phenomena, processes, and ideas. It involves the \n",
              "investigation of facts through observation, experimentation, reasoning, and interpretation to understand how \n",
              "things work in the real world.\n",
              "\n",
              "In simpler terms, scientific inquiry seeks to discover what exists or can exist by studying it scientifically.\n",
              "This includes fields such as physics, chemistry, biology, geology, astronomy, mathematics, engineering, \n",
              "medicine, psychology, sociology, linguistics, philosophy of science, and many others.\n",
              "\n",
              "Science is a fundamental part of our daily lives because we use its findings every day in everything from \n",
              "making decisions about where to buy groceries or how to build a house to understanding the world around us. It\n",
              "helps us make sense of complex phenomena that are hard for humans to explain on their own, such as climate \n",
              "change and artificial intelligence.\n",
              "\n",
              "Overall, science is an essential part of our collective knowledge and ability to understand the natural world.\n",
              "</pre>\n"
            ]
          },
          "metadata": {}
        },
        {
          "name": "stdout",
          "output_type": "stream",
          "text": [
            "User> what is artificial intelligence?\n"
          ]
        },
        {
          "output_type": "display_data",
          "data": {
            "text/plain": [
              "AI> Artificial Intelligence \u001b[1m(\u001b[0mAI\u001b[1m)\u001b[0m refers to the simulation of human cognitive processes through algorithms and \n",
              "machine learning. It involves developing software that can perform tasks such as recognizing speech, playing \n",
              "games, or understanding language patterns.\n",
              "\n",
              "In simple terms, AI systems are designed to mimic what humans do best: thinking, reasoning, and \n",
              "problem-solving. They use data analysis techniques to learn from experience and improve their performance over\n",
              "time by adjusting the algorithms they use based on new information and feedback.\n",
              "\n",
              "AI is a rapidly growing field that has applications in many fields such as healthcare, finance, \n",
              "transportation, manufacturing, entertainment, and more. It's also being used for ethical considerations like \n",
              "bias and privacy concerns.\n"
            ],
            "text/html": [
              "<pre style=\"white-space:pre;overflow-x:auto;line-height:normal;font-family:Menlo,'DejaVu Sans Mono',consolas,'Courier New',monospace\">AI&gt; Artificial Intelligence <span style=\"font-weight: bold\">(</span>AI<span style=\"font-weight: bold\">)</span> refers to the simulation of human cognitive processes through algorithms and \n",
              "machine learning. It involves developing software that can perform tasks such as recognizing speech, playing \n",
              "games, or understanding language patterns.\n",
              "\n",
              "In simple terms, AI systems are designed to mimic what humans do best: thinking, reasoning, and \n",
              "problem-solving. They use data analysis techniques to learn from experience and improve their performance over\n",
              "time by adjusting the algorithms they use based on new information and feedback.\n",
              "\n",
              "AI is a rapidly growing field that has applications in many fields such as healthcare, finance, \n",
              "transportation, manufacturing, entertainment, and more. It's also being used for ethical considerations like \n",
              "bias and privacy concerns.\n",
              "</pre>\n"
            ]
          },
          "metadata": {}
        },
        {
          "name": "stdout",
          "output_type": "stream",
          "text": [
            "User> quit!\n"
          ]
        },
        {
          "output_type": "display_data",
          "data": {
            "text/plain": [
              "Bye Bye!\n"
            ],
            "text/html": [
              "<pre style=\"white-space:pre;overflow-x:auto;line-height:normal;font-family:Menlo,'DejaVu Sans Mono',consolas,'Courier New',monospace\">Bye Bye!\n",
              "</pre>\n"
            ]
          },
          "metadata": {}
        }
      ]
    },
    {
      "cell_type": "code",
      "source": [],
      "metadata": {
        "id": "anz7wJrQ5bKN"
      },
      "execution_count": null,
      "outputs": []
    },
    {
      "cell_type": "markdown",
      "source": [
        "## 5> ReadTheDocs, aka we must read the Documentation"
      ],
      "metadata": {
        "id": "RBohYiQF5a1c"
      }
    },
    {
      "cell_type": "code",
      "source": [],
      "metadata": {
        "id": "A7fNHF725dHa"
      },
      "execution_count": null,
      "outputs": []
    },
    {
      "cell_type": "code",
      "source": [],
      "metadata": {
        "id": "A-rxFSnq5d2S"
      },
      "execution_count": null,
      "outputs": []
    },
    {
      "cell_type": "code",
      "source": [],
      "metadata": {
        "id": "4Gw081po5dxY"
      },
      "execution_count": null,
      "outputs": []
    },
    {
      "cell_type": "code",
      "source": [],
      "metadata": {
        "id": "BdTmifi35dvC"
      },
      "execution_count": null,
      "outputs": []
    }
  ]
}